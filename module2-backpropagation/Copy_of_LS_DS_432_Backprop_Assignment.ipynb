{
  "nbformat": 4,
  "nbformat_minor": 0,
  "metadata": {
    "colab": {
      "name": "Copy of LS_DS_432_Backprop_Assignment.ipynb",
      "provenance": [],
      "include_colab_link": true
    },
    "kernelspec": {
      "display_name": "Python 3",
      "language": "python",
      "name": "python3"
    },
    "language_info": {
      "codemirror_mode": {
        "name": "ipython",
        "version": 3
      },
      "file_extension": ".py",
      "mimetype": "text/x-python",
      "name": "python",
      "nbconvert_exporter": "python",
      "pygments_lexer": "ipython3",
      "version": "3.7.3"
    },
    "nteract": {
      "version": "0.22.4"
    }
  },
  "cells": [
    {
      "cell_type": "markdown",
      "metadata": {
        "id": "view-in-github",
        "colab_type": "text"
      },
      "source": [
        "<a href=\"https://colab.research.google.com/github/jakekrafczyk/DS-Unit-4-Sprint-2-Neural-Networks/blob/master/module2-backpropagation/Copy_of_LS_DS_432_Backprop_Assignment.ipynb\" target=\"_parent\"><img src=\"https://colab.research.google.com/assets/colab-badge.svg\" alt=\"Open In Colab\"/></a>"
      ]
    },
    {
      "cell_type": "markdown",
      "metadata": {
        "colab_type": "text",
        "id": "NGGrt9EYlCqY"
      },
      "source": [
        "<img align=\"left\" src=\"https://lever-client-logos.s3.amazonaws.com/864372b1-534c-480e-acd5-9711f850815c-1524247202159.png\" width=200>\n",
        "<br></br>\n",
        "\n",
        "# Backpropagation Practice\n",
        "\n",
        "## *Data Science Unit 4 Sprint 2 Assignment 2*\n",
        "\n",
        "Using TensorFlow Keras, Implement a 3 input, 4 node hidden-layer, 1 output node Multilayer Perceptron on the following dataset:\n",
        "\n",
        "| x1 | x2 | x3 | y |\n",
        "|----|----|----|---|\n",
        "| 0  | 0  | 1  | 0 |\n",
        "| 0  | 1  | 1  | 1 |\n",
        "| 1  | 0  | 1  | 1 |\n",
        "| 0  | 1  | 0  | 1 |\n",
        "| 1  | 0  | 0  | 1 |\n",
        "| 1  | 1  | 1  | 0 |\n",
        "| 0  | 0  | 0  | 0 |\n",
        "\n",
        "If you look at the data you'll notice that the first two columns behave like an XOR gate while the last column is mostly just noise. Remember that creating an XOR gate was what the perceptron was criticized for not being able to learn.\n",
        "\n",
        "This is your \"Hello World!\" of TensorFlow.\n",
        "\n",
        "### Example TensorFlow Starter Code\n",
        "\n",
        "```python \n",
        "from tensorflow.keras.models import Sequential\n",
        "from tensorflow.keras.layers import Dense\n",
        "\n",
        "model = Sequential([\n",
        "    Dense(3, activation='sigmoid', input_dim=2),\n",
        "    Dense(1, activation='sigmoid')\n",
        "])\n",
        "\n",
        "model.compile(optimizer='sgd', loss='binary_crossentropy', metrics=['acc'])\n",
        "\n",
        "results = model.fit(X,y, epochs=100)\n",
        "\n",
        "```\n",
        "\n",
        "### Additional Written Tasks:\n",
        "1. Investigate the various [loss functions](https://www.tensorflow.org/api_docs/python/tf/keras/losses). Which is best suited for the task at hand (predicting 1 / 0) and why? \n",
        "2. What is the difference between a loss function and a metric? Why might we need both in Keras? \n",
        "3. Investigate the various [optimizers](https://www.tensorflow.org/api_docs/python/tf/keras/optimizers). Stochastic Gradient Descent (`sgd`) is not the learning algorithm dejour anyone. Why is that? What do newer optimizers such as `adam` have to offer? "
      ]
    },
    {
      "cell_type": "code",
      "metadata": {
        "colab_type": "code",
        "id": "nEREYT-3wI1f",
        "colab": {}
      },
      "source": [
        "##### Your Code Here #####\n",
        "import pandas as pd\n",
        "import numpy as np\n",
        "data = { 'x1': [0,0,1,0,1,1,0],\n",
        "         'x2': [0,1,0,1,0,1,0],\n",
        "         'x3': [1,1,1,0,0,1,0],\n",
        "         'y':  [0,1,1,1,1,0,0]\n",
        "       }\n",
        "\n",
        "df = pd.DataFrame.from_dict(data).astype('int')"
      ],
      "execution_count": 0,
      "outputs": []
    },
    {
      "cell_type": "code",
      "metadata": {
        "id": "80Yt_FGj1HwZ",
        "colab_type": "code",
        "outputId": "fb231f58-fccf-4abf-dc1a-1c0fd09535f8",
        "colab": {
          "base_uri": "https://localhost:8080/",
          "height": 136
        }
      },
      "source": [
        "X = df[['x1', 'x2','x3']].values\n",
        "y = df['y'].values\n",
        "print(X,y)"
      ],
      "execution_count": 0,
      "outputs": [
        {
          "output_type": "stream",
          "text": [
            "[[0 0 1]\n",
            " [0 1 1]\n",
            " [1 0 1]\n",
            " [0 1 0]\n",
            " [1 0 0]\n",
            " [1 1 1]\n",
            " [0 0 0]] [0 1 1 1 1 0 0]\n"
          ],
          "name": "stdout"
        }
      ]
    },
    {
      "cell_type": "code",
      "metadata": {
        "id": "80maKDsE2JSL",
        "colab_type": "code",
        "colab": {}
      },
      "source": [
        "from tensorflow.keras.models import Sequential\n",
        "from tensorflow.keras.layers import Dense\n",
        " \n",
        "model = Sequential([\n",
        "    Dense(3, activation='sigmoid', input_dim=3),\n",
        "    Dense(1, activation='sigmoid')\n",
        "])\n",
        " \n",
        "model.compile(optimizer='sgd', loss='KLD', metrics=['acc'])\n",
        " \n",
        "results = model.fit(X,y, epochs=100)\n",
        "print(results)\n",
        "# sgd, binary_cross = .429\n",
        "# adam, binary_cross = .429\n",
        "# adam, hinge = .285\n",
        "# adam, huber = .429\n",
        "# adam, KLD = .571\n",
        "\n",
        "# sgd = stochastic gradient descent\n",
        "# momentum = how much an outlier slows down the descent\n",
        "# acceleration = adding this helps keep the momentum from overshooting\n",
        "# adam is efficient and accurate. combines momentum techniques with adadelta"
      ],
      "execution_count": 0,
      "outputs": []
    },
    {
      "cell_type": "code",
      "metadata": {
        "id": "iUO7LWVElYj1",
        "colab_type": "code",
        "outputId": "3b230444-f85e-446d-ec2c-8b1f3ffa9d23",
        "colab": {
          "base_uri": "https://localhost:8080/",
          "height": 51
        }
      },
      "source": [
        "scores = model.evaluate(X, y)\n",
        "print(f\"{model.metrics_names[1]}: {scores[1]*100}\")"
      ],
      "execution_count": 0,
      "outputs": [
        {
          "output_type": "stream",
          "text": [
            "1/1 [==============================] - 0s 1ms/step - loss: 0.3034 - acc: 0.5714\n",
            "acc: 57.14285969734192\n"
          ],
          "name": "stdout"
        }
      ]
    },
    {
      "cell_type": "markdown",
      "metadata": {
        "id": "OZrO2NJsbiTg",
        "colab_type": "text"
      },
      "source": [
        "### Build a Tensor Keras Perceptron\n",
        "\n",
        "Try to match the architecture we used on Monday - inputs nodes and one output node. Apply this architecture to the XOR-ish dataset above. \n",
        "\n",
        "After fitting your model answer these questions: \n",
        "\n",
        "Are you able to achieve the same results as a bigger architecture from the first part of the assignment? Why is this disparity the case? What properties of the XOR dataset would cause this disparity? \n",
        "\n",
        "Now extrapolate this behavior on a much larger dataset in terms of features. What kind of architecture decisions could we make to avoid the problems the XOR dataset presents at scale? \n",
        "\n",
        "*Note:* The bias term is baked in by default in the Dense layer."
      ]
    },
    {
      "cell_type": "code",
      "metadata": {
        "id": "Ol0y4a4FbiTh",
        "colab_type": "code",
        "outputId": "39bf9268-9e9b-4cae-dd4d-82e1276d7873",
        "colab": {
          "base_uri": "https://localhost:8080/",
          "height": 884
        }
      },
      "source": [
        "### Compare \n",
        "model = Sequential()\n",
        "model.add(Dense(1,input_dim=3, activation='sigmoid'))\n",
        "model.compile(loss='KLD', optimizer='adam', metrics=['accuracy'])\n",
        "model.fit(X,y, epochs=25)"
      ],
      "execution_count": 0,
      "outputs": [
        {
          "output_type": "stream",
          "text": [
            "Epoch 1/25\n",
            "1/1 [==============================] - 0s 1ms/step - loss: 0.2455 - accuracy: 0.5714\n",
            "Epoch 2/25\n",
            "1/1 [==============================] - 0s 1ms/step - loss: 0.2451 - accuracy: 0.4286\n",
            "Epoch 3/25\n",
            "1/1 [==============================] - 0s 2ms/step - loss: 0.2446 - accuracy: 0.4286\n",
            "Epoch 4/25\n",
            "1/1 [==============================] - 0s 1ms/step - loss: 0.2442 - accuracy: 0.4286\n",
            "Epoch 5/25\n",
            "1/1 [==============================] - 0s 2ms/step - loss: 0.2437 - accuracy: 0.4286\n",
            "Epoch 6/25\n",
            "1/1 [==============================] - 0s 1ms/step - loss: 0.2433 - accuracy: 0.4286\n",
            "Epoch 7/25\n",
            "1/1 [==============================] - 0s 1ms/step - loss: 0.2429 - accuracy: 0.4286\n",
            "Epoch 8/25\n",
            "1/1 [==============================] - 0s 2ms/step - loss: 0.2424 - accuracy: 0.4286\n",
            "Epoch 9/25\n",
            "1/1 [==============================] - 0s 1ms/step - loss: 0.2420 - accuracy: 0.4286\n",
            "Epoch 10/25\n",
            "1/1 [==============================] - 0s 2ms/step - loss: 0.2415 - accuracy: 0.4286\n",
            "Epoch 11/25\n",
            "1/1 [==============================] - 0s 1ms/step - loss: 0.2411 - accuracy: 0.4286\n",
            "Epoch 12/25\n",
            "1/1 [==============================] - 0s 1ms/step - loss: 0.2406 - accuracy: 0.4286\n",
            "Epoch 13/25\n",
            "1/1 [==============================] - 0s 1ms/step - loss: 0.2402 - accuracy: 0.4286\n",
            "Epoch 14/25\n",
            "1/1 [==============================] - 0s 1ms/step - loss: 0.2398 - accuracy: 0.4286\n",
            "Epoch 15/25\n",
            "1/1 [==============================] - 0s 1ms/step - loss: 0.2393 - accuracy: 0.4286\n",
            "Epoch 16/25\n",
            "1/1 [==============================] - 0s 1ms/step - loss: 0.2389 - accuracy: 0.4286\n",
            "Epoch 17/25\n",
            "1/1 [==============================] - 0s 1ms/step - loss: 0.2384 - accuracy: 0.4286\n",
            "Epoch 18/25\n",
            "1/1 [==============================] - 0s 1ms/step - loss: 0.2380 - accuracy: 0.4286\n",
            "Epoch 19/25\n",
            "1/1 [==============================] - 0s 1ms/step - loss: 0.2376 - accuracy: 0.4286\n",
            "Epoch 20/25\n",
            "1/1 [==============================] - 0s 2ms/step - loss: 0.2371 - accuracy: 0.4286\n",
            "Epoch 21/25\n",
            "1/1 [==============================] - 0s 1ms/step - loss: 0.2367 - accuracy: 0.4286\n",
            "Epoch 22/25\n",
            "1/1 [==============================] - 0s 2ms/step - loss: 0.2363 - accuracy: 0.4286\n",
            "Epoch 23/25\n",
            "1/1 [==============================] - 0s 1ms/step - loss: 0.2358 - accuracy: 0.4286\n",
            "Epoch 24/25\n",
            "1/1 [==============================] - 0s 1ms/step - loss: 0.2354 - accuracy: 0.4286\n",
            "Epoch 25/25\n",
            "1/1 [==============================] - 0s 2ms/step - loss: 0.2350 - accuracy: 0.4286\n"
          ],
          "name": "stdout"
        },
        {
          "output_type": "execute_result",
          "data": {
            "text/plain": [
              "<tensorflow.python.keras.callbacks.History at 0x7fab870eb668>"
            ]
          },
          "metadata": {
            "tags": []
          },
          "execution_count": 27
        }
      ]
    },
    {
      "cell_type": "code",
      "metadata": {
        "id": "uMQMV6ySlXaN",
        "colab_type": "code",
        "outputId": "19da67a4-cdb0-4c1b-f4e3-5c5eed6d84fd",
        "colab": {
          "base_uri": "https://localhost:8080/",
          "height": 51
        }
      },
      "source": [
        "scores = model.evaluate(X, y)\n",
        "print(f\"{model.metrics_names[1]}: {scores[1]*100}\")"
      ],
      "execution_count": 0,
      "outputs": [
        {
          "output_type": "stream",
          "text": [
            "1/1 [==============================] - 0s 1ms/step - loss: 0.2346 - accuracy: 0.4286\n",
            "accuracy: 42.85714328289032\n"
          ],
          "name": "stdout"
        }
      ]
    },
    {
      "cell_type": "markdown",
      "metadata": {
        "colab_type": "text",
        "id": "8b-r70o8p2Dm"
      },
      "source": [
        "## Try building/training a more complex MLP on a bigger dataset.\n",
        "\n",
        "Use TensorFlow Keras & the [MNIST dataset](http://yann.lecun.com/exdb/mnist/) to build the canonical handwriting digit recognizer and see what kind of accuracy you can achieve. \n",
        "\n",
        "If you need inspiration, the Internet is chalk-full of tutorials, but I want you to see how far you can get on your own first. I've linked to the original MNIST dataset above but it will probably be easier to download data through a neural network library. If you reference outside resources make sure you understand every line of code that you're using from other sources, and share with your fellow students helpful resources that you find.\n",
        "\n",
        "\n",
        "### Parts\n",
        "1. Gathering & Transforming the Data\n",
        "2. Making MNIST a Binary Problem\n",
        "3. Estimating your Neural Network (the part you focus on)"
      ]
    },
    {
      "cell_type": "markdown",
      "metadata": {
        "id": "ODMgmOH0biTp",
        "colab_type": "text"
      },
      "source": [
        "### Gathering the Data \n",
        "\n",
        "`keras` has a handy method to pull the mnist dataset for you. You'll notice that each observation is a 28x28 arrary which represents an image. Although most Neural Network frameworks can handle higher dimensional data, that is more overhead than necessary for us. We need to flatten the image to one long row which will be 784 values (28X28). Basically, you will be appending each row to one another to make on really long row. "
      ]
    },
    {
      "cell_type": "code",
      "metadata": {
        "id": "ID_VqYUIbiTv",
        "colab_type": "code",
        "colab": {}
      },
      "source": [
        "import numpy as np\n",
        "from tensorflow.keras.datasets import mnist\n",
        "from tensorflow.keras.utils import to_categorical"
      ],
      "execution_count": 0,
      "outputs": []
    },
    {
      "cell_type": "code",
      "metadata": {
        "id": "OzXAPjk1biTz",
        "colab_type": "code",
        "colab": {}
      },
      "source": [
        "# input image dimensions\n",
        "img_rows, img_cols = 28, 28"
      ],
      "execution_count": 0,
      "outputs": []
    },
    {
      "cell_type": "code",
      "metadata": {
        "id": "haOhLGh1biT9",
        "colab_type": "code",
        "colab": {}
      },
      "source": [
        "# the data, split between train and test sets\n",
        "(x_train, y_train), (x_test, y_test) = mnist.load_data()"
      ],
      "execution_count": 0,
      "outputs": []
    },
    {
      "cell_type": "code",
      "metadata": {
        "id": "WDr6-BF9biUG",
        "colab_type": "code",
        "colab": {}
      },
      "source": [
        "x_train = x_train.reshape(x_train.shape[0], img_rows * img_cols)\n",
        "x_test = x_test.reshape(x_test.shape[0], img_rows * img_cols)\n",
        "\n",
        "# Normalize Our Data\n",
        "x_train = x_train / 255\n",
        "x_test = x_test / 255"
      ],
      "execution_count": 0,
      "outputs": []
    },
    {
      "cell_type": "code",
      "metadata": {
        "id": "X5TwNQpGbiUR",
        "colab_type": "code",
        "outputId": "961c041e-b1ea-4c02-f9b8-cc8b39c55df9",
        "colab": {
          "base_uri": "https://localhost:8080/",
          "height": 34
        }
      },
      "source": [
        "# Now the data should be in a format you're more familiar with\n",
        "x_train.shape"
      ],
      "execution_count": 0,
      "outputs": [
        {
          "output_type": "execute_result",
          "data": {
            "text/plain": [
              "(60000, 784)"
            ]
          },
          "metadata": {
            "tags": []
          },
          "execution_count": 55
        }
      ]
    },
    {
      "cell_type": "markdown",
      "metadata": {
        "id": "AtGIr5eFbiUh",
        "colab_type": "text"
      },
      "source": [
        "### Making MNIST a Binary Problem \n",
        "MNIST is multiclass classification problem; however we haven't covered all the necessary techniques to handle this yet. You would need to one-hot encode the target, use a different loss metric, and use softmax activations for the last layer. This is all stuff we'll cover later this week, but let us simplify the problem for now: Zero or all else."
      ]
    },
    {
      "cell_type": "code",
      "metadata": {
        "id": "ra2GGJrdbiUj",
        "colab_type": "code",
        "colab": {}
      },
      "source": [
        "import numpy as np\n",
        "\n",
        "y_temp = np.zeros(y_train.shape)\n",
        "y_temp[np.where(y_train == 0.0)[0]] = 1\n",
        "y_train = y_temp\n",
        "\n",
        "y_temp = np.zeros(y_test.shape)\n",
        "y_temp[np.where(y_test == 0.0)[0]] = 1\n",
        "y_test = y_temp"
      ],
      "execution_count": 0,
      "outputs": []
    },
    {
      "cell_type": "code",
      "metadata": {
        "id": "YLwYz7HHbiU0",
        "colab_type": "code",
        "outputId": "87be4513-26a7-4080-f791-14843c95acb6",
        "colab": {
          "base_uri": "https://localhost:8080/",
          "height": 34
        }
      },
      "source": [
        "# A Nice Binary target for ya to work with\n",
        "y_train.shape"
      ],
      "execution_count": 0,
      "outputs": [
        {
          "output_type": "execute_result",
          "data": {
            "text/plain": [
              "(60000,)"
            ]
          },
          "metadata": {
            "tags": []
          },
          "execution_count": 57
        }
      ]
    },
    {
      "cell_type": "markdown",
      "metadata": {
        "id": "LCBblgX0biVK",
        "colab_type": "text"
      },
      "source": [
        "### Estimating Your `net"
      ]
    },
    {
      "cell_type": "code",
      "metadata": {
        "id": "s3oXe_9KwU4L",
        "colab_type": "code",
        "outputId": "7e1b0c0f-564e-48bd-db25-be71a4d51aa1",
        "colab": {
          "base_uri": "https://localhost:8080/",
          "height": 34
        }
      },
      "source": [
        "x_test.shape"
      ],
      "execution_count": 0,
      "outputs": [
        {
          "output_type": "execute_result",
          "data": {
            "text/plain": [
              "(10000, 784)"
            ]
          },
          "metadata": {
            "tags": []
          },
          "execution_count": 58
        }
      ]
    },
    {
      "cell_type": "code",
      "metadata": {
        "colab_type": "code",
        "id": "5MOPtYdk1HgA",
        "outputId": "a1693a09-a073-4de9-ff25-ae71a5256a11",
        "colab": {
          "base_uri": "https://localhost:8080/",
          "height": 1000
        }
      },
      "source": [
        "##### Your Code Here #####\n",
        "model = Sequential([\n",
        "    Dense(32, activation='relu'),\n",
        "    Dense(2, activation='relu')\n",
        "])\n",
        " \n",
        "model.compile(optimizer='adam', loss='KLD', metrics=['acc'])\n",
        " \n",
        "results = model.fit(x_train,y_train, epochs=30)\n",
        "print(results)"
      ],
      "execution_count": 0,
      "outputs": [
        {
          "output_type": "stream",
          "text": [
            "Epoch 1/30\n",
            "1875/1875 [==============================] - 2s 1ms/step - loss: 0.0056 - acc: 0.7983\n",
            "Epoch 2/30\n",
            "1875/1875 [==============================] - 2s 1ms/step - loss: -2.5561e-06 - acc: 0.6693\n",
            "Epoch 3/30\n",
            "1875/1875 [==============================] - 2s 1ms/step - loss: -2.9054e-06 - acc: 0.8415\n",
            "Epoch 4/30\n",
            "1875/1875 [==============================] - 2s 1ms/step - loss: -2.9054e-06 - acc: 0.8411\n",
            "Epoch 5/30\n",
            "1875/1875 [==============================] - 2s 1ms/step - loss: -2.9054e-06 - acc: 0.8407\n",
            "Epoch 6/30\n",
            "1875/1875 [==============================] - 2s 1ms/step - loss: -2.9054e-06 - acc: 0.8401\n",
            "Epoch 7/30\n",
            "1875/1875 [==============================] - 2s 1ms/step - loss: -2.9054e-06 - acc: 0.8395\n",
            "Epoch 8/30\n",
            "1875/1875 [==============================] - 2s 1ms/step - loss: -2.9054e-06 - acc: 0.8387\n",
            "Epoch 9/30\n",
            "1875/1875 [==============================] - 2s 1ms/step - loss: -2.9054e-06 - acc: 0.8375\n",
            "Epoch 10/30\n",
            "1875/1875 [==============================] - 2s 1ms/step - loss: -2.9054e-06 - acc: 0.8359\n",
            "Epoch 11/30\n",
            "1875/1875 [==============================] - 2s 1ms/step - loss: -2.9054e-06 - acc: 0.8342\n",
            "Epoch 12/30\n",
            "1875/1875 [==============================] - 2s 1ms/step - loss: -2.9054e-06 - acc: 0.8317\n",
            "Epoch 13/30\n",
            "1875/1875 [==============================] - 2s 1ms/step - loss: -2.9054e-06 - acc: 0.8281\n",
            "Epoch 14/30\n",
            "1875/1875 [==============================] - 2s 1ms/step - loss: -2.9054e-06 - acc: 0.8242\n",
            "Epoch 15/30\n",
            "1875/1875 [==============================] - 2s 1ms/step - loss: -2.9054e-06 - acc: 0.8207\n",
            "Epoch 16/30\n",
            "1875/1875 [==============================] - 2s 1ms/step - loss: -2.9054e-06 - acc: 0.8179\n",
            "Epoch 17/30\n",
            "1875/1875 [==============================] - 2s 1ms/step - loss: -2.9054e-06 - acc: 0.8149\n",
            "Epoch 18/30\n",
            "1875/1875 [==============================] - 2s 1ms/step - loss: -2.9054e-06 - acc: 0.8121\n",
            "Epoch 19/30\n",
            "1875/1875 [==============================] - 2s 1ms/step - loss: -2.9054e-06 - acc: 0.8094\n",
            "Epoch 20/30\n",
            "1875/1875 [==============================] - 2s 1ms/step - loss: -2.9054e-06 - acc: 0.8075\n",
            "Epoch 21/30\n",
            "1875/1875 [==============================] - 2s 1ms/step - loss: -2.9054e-06 - acc: 0.8058\n",
            "Epoch 22/30\n",
            "1875/1875 [==============================] - 2s 1ms/step - loss: -2.9054e-06 - acc: 0.8047\n",
            "Epoch 23/30\n",
            "1875/1875 [==============================] - 2s 1ms/step - loss: -2.9054e-06 - acc: 0.8033\n",
            "Epoch 24/30\n",
            "1875/1875 [==============================] - 2s 1ms/step - loss: -2.9054e-06 - acc: 0.8018\n",
            "Epoch 25/30\n",
            "1875/1875 [==============================] - 2s 1ms/step - loss: -2.9054e-06 - acc: 0.8005\n",
            "Epoch 26/30\n",
            "1875/1875 [==============================] - 2s 1ms/step - loss: -2.9054e-06 - acc: 0.7996\n",
            "Epoch 27/30\n",
            "1875/1875 [==============================] - 2s 1ms/step - loss: -2.9054e-06 - acc: 0.7980\n",
            "Epoch 28/30\n",
            "1875/1875 [==============================] - 3s 1ms/step - loss: -2.9054e-06 - acc: 0.7972\n",
            "Epoch 29/30\n",
            "1875/1875 [==============================] - 2s 1ms/step - loss: -2.9054e-06 - acc: 0.7959\n",
            "Epoch 30/30\n",
            "1875/1875 [==============================] - 2s 1ms/step - loss: -2.9054e-06 - acc: 0.7949\n",
            "<tensorflow.python.keras.callbacks.History object at 0x7fab6c20ae48>\n"
          ],
          "name": "stdout"
        }
      ]
    },
    {
      "cell_type": "code",
      "metadata": {
        "id": "Uqz0NjPgu2cA",
        "colab_type": "code",
        "outputId": "44256a3c-e735-4796-d685-e330ec65c004",
        "colab": {
          "base_uri": "https://localhost:8080/",
          "height": 51
        }
      },
      "source": [
        "scores = model.evaluate(x_test, y_test)\n",
        "print(f\"{model.metrics_names[1]}: {scores[1]*100}\")"
      ],
      "execution_count": 0,
      "outputs": [
        {
          "output_type": "stream",
          "text": [
            "313/313 [==============================] - 0s 971us/step - loss: 1.5796 - acc: 0.9020\n",
            "acc: 90.20000100135803\n"
          ],
          "name": "stdout"
        }
      ]
    },
    {
      "cell_type": "markdown",
      "metadata": {
        "colab_type": "text",
        "id": "FwlRJSfBlCvy"
      },
      "source": [
        "## Stretch Goals: \n",
        "\n",
        "- Make MNIST a multiclass problem using cross entropy & soft-max\n",
        "- Implement Cross Validation model evaluation on your MNIST implementation \n",
        "- Research different [Gradient Descent Based Optimizers](https://keras.io/optimizers/)\n",
        " - [Siraj Raval the evolution of gradient descent](https://www.youtube.com/watch?v=nhqo0u1a6fw)\n",
        "- Build a housing price estimation model using a neural network. How does its accuracy compare with the regression models that we fit earlier on in class?"
      ]
    }
  ]
}